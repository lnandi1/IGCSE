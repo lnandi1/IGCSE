{
  "nbformat": 4,
  "nbformat_minor": 0,
  "metadata": {
    "colab": {
      "provenance": [],
      "include_colab_link": true
    },
    "kernelspec": {
      "name": "python3",
      "display_name": "Python 3"
    },
    "language_info": {
      "name": "python"
    }
  },
  "cells": [
    {
      "cell_type": "markdown",
      "metadata": {
        "id": "view-in-github",
        "colab_type": "text"
      },
      "source": [
        "<a href=\"https://colab.research.google.com/github/lnandi1/IGCSE/blob/main/Algorithms_IGCSE_LinearSearch_BubbleSort_Totalling_Counting_Max_Min_Average.ipynb\" target=\"_parent\"><img src=\"https://colab.research.google.com/assets/colab-badge.svg\" alt=\"Open In Colab\"/></a>"
      ]
    },
    {
      "cell_type": "markdown",
      "metadata": {
        "id": "RoZgKoRvNQZX"
      },
      "source": [
        "**This Notebook has Python Code for:-\n",
        "<br>\n",
        "<br>(i) Linear Search\n",
        "<br>(ii) Bubble Sort - for numbers ascending and descending & also text alphabetical order and descending alphabetical order\n",
        "<br>(iii) Totalling , Counting and Average of Numbers, Max and Min of:-\n",
        "<br>(a) A Set of Entered Numbers\n",
        "<br>(b) Numbers in a 1D array\n",
        "<br>(c) Numbers in a 2D array**"
      ]
    },
    {
      "cell_type": "markdown",
      "source": [
        "## **1.0 Linear Sort Code**\n",
        "<br>The mechanics of Linear Search can be found in this YouTube video\n",
        "<br>https://youtu.be/dveRhfihkX0?si=H2n0ZrMaaFYWWvPA\n"
      ],
      "metadata": {
        "id": "1lNbmJm_SUN-"
      }
    },
    {
      "cell_type": "code",
      "metadata": {
        "colab": {
          "base_uri": "https://localhost:8080/"
        },
        "id": "ke-Yom94O_Kn",
        "outputId": "28df5e1b-6cea-464d-be4b-3e4225c94b37"
      },
      "source": [
        "def Linear_Search(alist,itemSought):\n",
        "  for j in range(len(alist)):\n",
        "    if alist[j] == itemSought:\n",
        "      return j\n",
        "  return -1\n",
        "\n",
        "\n",
        "\n",
        "a = [1,6,4,8,9,10,12,17,2]\n",
        "key = int(input(\"Enter key \"))\n",
        "\n",
        "j = Linear_Search(a,key)\n",
        "if j == -1:\n",
        "  print(\"Key not in list\")\n",
        "else:\n",
        "  print(a[j], \"is at index \",j)"
      ],
      "execution_count": null,
      "outputs": [
        {
          "output_type": "stream",
          "name": "stdout",
          "text": [
            "Enter key 2\n",
            "2 is at index  8\n"
          ]
        }
      ]
    },
    {
      "cell_type": "markdown",
      "metadata": {
        "id": "ejWBG-gKNSy7"
      },
      "source": [
        "## **2.0 Bubble Sort - Code for Arranging Numbers in Ascending Order**\n",
        "<br>The mechanics of Bubble Sort of Arranging Numbers in Ascending Order can be found in this YouTube video\n",
        "<br>https://youtu.be/8VXslDFD9K0?si=SkAdrJQbALIqYjSM\n",
        "\n"
      ]
    },
    {
      "cell_type": "markdown",
      "source": [],
      "metadata": {
        "id": "aOH09pCWwxLR"
      }
    },
    {
      "cell_type": "code",
      "metadata": {
        "colab": {
          "base_uri": "https://localhost:8080/"
        },
        "id": "xC6S9lQTA97m",
        "outputId": "7fa42533-a46f-4fc2-9376-50e13c42429e"
      },
      "source": [
        "# Bubble Sort\n",
        "# Python program for Implementation of Bubble Sort\n",
        "# Arranging numbers in Ascending Order\n",
        "\n",
        "def bubbleSort(arr):\n",
        "    n = len(arr)\n",
        "\n",
        "    # Traverse through all array elements\n",
        "    for i in range(n-1):  #Outer Loop Looking at the Passes\n",
        "\n",
        "        for j in range(0, n-i-1):  # Inner Loop Looking at the elements in a Row\n",
        "\n",
        "            # traverse the array from 0 to n-i-1\n",
        "            # Swap if the element found is greater\n",
        "            # than the next element\n",
        "            if arr[j] > arr[j+1] :\n",
        "                arr[j], arr[j+1] = arr[j+1], arr[j]\n",
        "\n",
        "\n",
        "\n",
        "# Driver code to test above\n",
        "arr = [64, 34, 25, 12, 22, 11, 90]\n",
        "\n",
        "bubbleSort(arr)\n",
        "\n",
        "print (\"Sorted array is:\")\n",
        "for i in range(len(arr)):\n",
        "    print ( arr[i])"
      ],
      "execution_count": null,
      "outputs": [
        {
          "output_type": "stream",
          "name": "stdout",
          "text": [
            "Sorted array is:\n",
            "11\n",
            "12\n",
            "22\n",
            "25\n",
            "34\n",
            "64\n",
            "90\n"
          ]
        }
      ]
    },
    {
      "cell_type": "markdown",
      "metadata": {
        "id": "ILs0OnkwBvOt"
      },
      "source": [
        "## **3.0 Now write the Bubble Sort Code for arranging numbers in descending order (*Hint - you actually only have to copy and paste the above code into the cell below and only make 1 change in the code**\n",
        "<br>The mechanics of a Bubble Sort of sorting numbers in descending order can be found here.\n",
        "<br>https://youtu.be/kHd_ep6cpr0?si=RcuHt9g_MM9OJTy-\n"
      ]
    },
    {
      "cell_type": "code",
      "metadata": {
        "id": "1pMV961lB2AH",
        "colab": {
          "base_uri": "https://localhost:8080/"
        },
        "outputId": "7d2a2ba6-aeb6-451d-f818-372299f71403"
      },
      "source": [
        "# Insert Code Here\n",
        "def bubbleSort(arr):\n",
        "    n = len(arr)\n",
        "\n",
        "    # Traverse through all array elements\n",
        "    for i in range(n-1):  #Outer Loop Looking at the Passes\n",
        "\n",
        "        for j in range(0, n-i-1):  # Inner Loop Looking at the elements in a Row\n",
        "\n",
        "            # traverse the array from 0 to n-i-1\n",
        "            # Swap if the element found is greater\n",
        "            # than the next element\n",
        "            if arr[j] < arr[j+1] :\n",
        "                arr[j], arr[j+1] = arr[j+1], arr[j]\n",
        "\n",
        "\n",
        "\n",
        "# Driver code to test above\n",
        "arr = [64, 34, 25, 12, 22, 11, 90]\n",
        "\n",
        "bubbleSort(arr)\n",
        "\n",
        "print (\"Sorted array is:\")\n",
        "for i in range(len(arr)):\n",
        "    print ( arr[i])"
      ],
      "execution_count": null,
      "outputs": [
        {
          "output_type": "stream",
          "name": "stdout",
          "text": [
            "Sorted array is:\n",
            "90\n",
            "64\n",
            "34\n",
            "25\n",
            "22\n",
            "12\n",
            "11\n"
          ]
        }
      ]
    },
    {
      "cell_type": "markdown",
      "metadata": {
        "id": "rZ1oNY2xCH6J"
      },
      "source": [
        "## **4.0 Now arrange strings in alphabetical order**##\n",
        "<br>The mechanics of arranging strings in alphabetical order can be found in an YouTube video here\n",
        "<br>https://youtu.be/dGS3SuAV4IA?si=mQe-5WzOlM6mq44m\n"
      ]
    },
    {
      "cell_type": "markdown",
      "metadata": {
        "id": "oP7bbRoECfnl"
      },
      "source": []
    },
    {
      "cell_type": "code",
      "metadata": {
        "id": "hlN4fyNUCTOy",
        "colab": {
          "base_uri": "https://localhost:8080/"
        },
        "outputId": "1177528a-0fbe-410e-c2f5-b4135f580ae3"
      },
      "source": [
        "# Insert Code Here\n",
        "def bubbleSort(arr):\n",
        "    n = len(arr)\n",
        "\n",
        "    # Traverse through all array elements\n",
        "    for i in range(n-1):  #Outer Loop Looking at the Passes\n",
        "\n",
        "        for j in range(0, n-i-1):  # Inner Loop Looking at the elements in a Row\n",
        "\n",
        "            # traverse the array from 0 to n-i-1\n",
        "            # Swap if the element found is greater\n",
        "            # than the next element\n",
        "            if arr[j] > arr[j+1] :\n",
        "                arr[j], arr[j+1] = arr[j+1], arr[j]\n",
        "\n",
        "\n",
        "\n",
        "# Driver code to test above\n",
        "arr = [\"a\", \"b\", \"c\", \"d\", \"e\", \"f\", \"g\"]\n",
        "\n",
        "bubbleSort(arr)\n",
        "\n",
        "print (\"Sorted array is:\")\n",
        "for i in range(len(arr)):\n",
        "    print ( arr[i])"
      ],
      "execution_count": null,
      "outputs": [
        {
          "output_type": "stream",
          "name": "stdout",
          "text": [
            "Sorted array is:\n",
            "a\n",
            "b\n",
            "c\n",
            "d\n",
            "e\n",
            "f\n",
            "g\n"
          ]
        }
      ]
    },
    {
      "cell_type": "markdown",
      "metadata": {
        "id": "rppjOCu_ChNC"
      },
      "source": [
        "## **5.0 Now arrange strings in descending alphabetical order**\n"
      ]
    },
    {
      "cell_type": "code",
      "metadata": {
        "id": "BVfUIu0yCmS-",
        "colab": {
          "base_uri": "https://localhost:8080/"
        },
        "outputId": "fa568093-7cd8-49cc-ac5d-72d6a0faf319"
      },
      "source": [
        "# Insert Code Here\n",
        "def bubbleSort(arr):\n",
        "    n = len(arr)\n",
        "\n",
        "    # Traverse through all array elements\n",
        "    for i in range(n-1):  #Outer Loop Looking at the Passes\n",
        "\n",
        "        for j in range(0, n-i-1):  # Inner Loop Looking at the elements in a Row\n",
        "\n",
        "            # traverse the array from 0 to n-i-1\n",
        "            # Swap if the element found is greater\n",
        "            # than the next element\n",
        "            if arr[j] < arr[j+1] :\n",
        "                arr[j], arr[j+1] = arr[j+1], arr[j]\n",
        "\n",
        "\n",
        "\n",
        "# Driver code to test above\n",
        "arr = [\"apple\", \"banana\", \"carrot\", \"chocolate\", \"eggs\", \"fall\", \"ground\", \"game\"]\n",
        "\n",
        "bubbleSort(arr)\n",
        "\n",
        "print (\"Sorted array is:\")\n",
        "for i in range(len(arr)):\n",
        "    print ( arr[i])"
      ],
      "execution_count": null,
      "outputs": [
        {
          "output_type": "stream",
          "name": "stdout",
          "text": [
            "Sorted array is:\n",
            "ground\n",
            "game\n",
            "fall\n",
            "eggs\n",
            "chocolate\n",
            "carrot\n",
            "banana\n",
            "apple\n"
          ]
        }
      ]
    },
    {
      "cell_type": "markdown",
      "source": [
        "## **6.0 Totalling, Counting and Average** ##"
      ],
      "metadata": {
        "id": "bONgHOJ6l2q7"
      }
    },
    {
      "cell_type": "code",
      "source": [
        "# Program 1 - Entering 3 numbers & Calculating Sum and Average\n",
        "sum = 0\n",
        "for j in range(3):\n",
        "  Number = int(input(\"Enter integer \"))\n",
        "  sum = sum + Number\n",
        "\n",
        "Average = sum/3\n",
        "print(\"Total = \", sum,)\n",
        "print(\"Average = \", Average)\n"
      ],
      "metadata": {
        "colab": {
          "base_uri": "https://localhost:8080/"
        },
        "id": "FTjq_uLel7Vd",
        "outputId": "67128a47-bc79-40d8-bd82-33fc6c48de72"
      },
      "execution_count": null,
      "outputs": [
        {
          "output_type": "stream",
          "name": "stdout",
          "text": [
            "Enter integer 5\n",
            "Enter integer 6\n",
            "Enter integer 7\n",
            "Total =  18\n",
            "Average =  6.0\n"
          ]
        }
      ]
    },
    {
      "cell_type": "code",
      "source": [
        "# Program 2 - Counting the number of numbers entered and calculating the sum\n",
        "Count = 0\n",
        "Total = 0\n",
        "while True:\n",
        "  j = int(input(\"Enter integer or 999 to exit \"))\n",
        "  if j == 999:\n",
        "    break\n",
        "  else:\n",
        "    Count = Count + 1\n",
        "    Total = Total + j\n",
        "Average = Total/Count\n",
        "\n",
        "print(\"Total \", Total)\n",
        "print(\"Count \",Count)\n",
        "print(\"Average \",Average)\n",
        "print(\"Average to 1 decimal place \", round(Average,1))\n",
        "print(\"Average to 2 decimal place \", round(Average,2))\n"
      ],
      "metadata": {
        "colab": {
          "base_uri": "https://localhost:8080/"
        },
        "id": "q28Dt5rxoUS8",
        "outputId": "5d17b42c-33d2-42b0-9c3e-632765886e50"
      },
      "execution_count": null,
      "outputs": [
        {
          "output_type": "stream",
          "name": "stdout",
          "text": [
            "Enter integer or 999 to exit 2\n",
            "Enter integer or 999 to exit 2\n",
            "Enter integer or 999 to exit 2\n",
            "Enter integer or 999 to exit 3\n",
            "Enter integer or 999 to exit 3\n",
            "Enter integer or 999 to exit 1\n",
            "Enter integer or 999 to exit 6\n",
            "Enter integer or 999 to exit 5\n",
            "Enter integer or 999 to exit 7\n",
            "Enter integer or 999 to exit 8\n",
            "Enter integer or 999 to exit 2\n",
            "Enter integer or 999 to exit 9\n",
            "Enter integer or 999 to exit 11\n",
            "Enter integer or 999 to exit 999\n",
            "Total  61\n",
            "Count  13\n",
            "Average  4.6923076923076925\n",
            "Average to 1 decimal place  4.7\n",
            "Average to 2 decimal place  4.69\n"
          ]
        }
      ]
    },
    {
      "cell_type": "markdown",
      "source": [
        "## **7.0 Finding Minimum, Maximum, Average of Entered Set of Numbers - Putting them in a 1-D array and then doing the calculations**##"
      ],
      "metadata": {
        "id": "cRW92JtI2Hul"
      }
    },
    {
      "cell_type": "code",
      "source": [
        "# Program 3\n",
        "def Enter_Numbers():\n",
        "  Numbers = []\n",
        "  print(\"Numbers \",Numbers)\n",
        "  for j in range(4):\n",
        "    X = int(input(\"Enter Integer \"))\n",
        "    Numbers.append(X)\n",
        "  print(\"Numbers \", Numbers)\n",
        "  Min = find_minimum(Numbers)\n",
        "  print(\"Minimum \", Min)\n",
        "\n",
        "  Max = find_maximum(Numbers)\n",
        "  print(\"Maximum \",Max)\n",
        "\n",
        "  Average = find_average(Numbers)\n",
        "  print(\"Average \", Average)\n",
        "\n",
        "# Finding the minimum\n",
        "def find_minimum(numbers):\n",
        "    # Initialize minimum with the first number\n",
        "    minimum = numbers[0]\n",
        "\n",
        "    # Iterate through the numbers to find the minimum\n",
        "    for num in numbers:\n",
        "        if num < minimum:\n",
        "            minimum = num\n",
        "\n",
        "    return minimum\n",
        "\n",
        "\n",
        "# Finding the maximum\n",
        "def find_maximum(numbers):\n",
        "  maximum = numbers[0] #Initialise the 1st number\n",
        "  for num in numbers:\n",
        "    if num > maximum:\n",
        "      maximum = num\n",
        "  return maximum\n",
        "\n",
        "\n",
        "\n",
        "\n",
        "def find_average(numbers):\n",
        "  Total = 0\n",
        "  for num in numbers:\n",
        "    Total = Total + num\n",
        "\n",
        "  Average = Total/len(numbers)\n",
        "  return Average\n",
        "\n",
        "\n",
        "Enter_Numbers()\n"
      ],
      "metadata": {
        "colab": {
          "base_uri": "https://localhost:8080/"
        },
        "id": "R30KY4M-s1Hz",
        "outputId": "de992ae5-5275-429e-e37b-824fecab84a1"
      },
      "execution_count": null,
      "outputs": [
        {
          "output_type": "stream",
          "name": "stdout",
          "text": [
            "Numbers  []\n",
            "Enter Integer 3\n",
            "Enter Integer 4\n",
            "Enter Integer 2\n",
            "Enter Integer 7\n",
            "Numbers  [3, 4, 2, 7]\n",
            "Minimum  2\n",
            "Maximum  7\n",
            "Average  4.0\n"
          ]
        }
      ]
    },
    {
      "cell_type": "markdown",
      "source": [
        "## **8.0 2D - Arrays - Totalling, Counting, Max, Min and Average**##"
      ],
      "metadata": {
        "id": "Cw_Sf0w23B__"
      }
    },
    {
      "cell_type": "code",
      "source": [
        "# Create and populate the 2D array\n",
        "array_2d = [\n",
        "    [1, 2, 3, 4],\n",
        "    [5, 6, 7, 8],\n",
        "    [9, 10, 11, 12]\n",
        "]\n",
        "\n",
        "# Function to calculate the sum using nested for loops\n",
        "def calculate_sum_2d(array):\n",
        "    total_sum = 0\n",
        "    for row in array:\n",
        "        for num in row:\n",
        "            # Add each number to the total sum\n",
        "            total_sum += num\n",
        "    return total_sum\n",
        "\n",
        "# Function to calculate the minimum value using nested for loops\n",
        "def calculate_minimum_2d(array):\n",
        "    # Initialize min_value with the maximum possible integer value\n",
        "    min_value = float('inf')\n",
        "\n",
        "    # Iterate through each element in the array\n",
        "    for row in array:\n",
        "        for num in row:\n",
        "            # Update min_value if the current number is smaller\n",
        "            if num < min_value:\n",
        "                min_value = num\n",
        "\n",
        "    return min_value\n",
        "\n",
        "# Function to calculate the maximum value using nested for loops\n",
        "def calculate_maximum_2d(array):\n",
        "    # Initialize max_value with the minimum possible integer value\n",
        "    max_value = float('-inf')\n",
        "\n",
        "    # Iterate through each element in the array\n",
        "    for row in array:\n",
        "        for num in row:\n",
        "            # Update max_value if the current number is larger\n",
        "            if num > max_value:\n",
        "                max_value = num\n",
        "\n",
        "    return max_value\n",
        "\n",
        "# Function to calculate the average value using nested for loops\n",
        "def calculate_average_2d(array):\n",
        "    total_sum = 0\n",
        "    count = 0\n",
        "\n",
        "    # Iterate through each element in the array\n",
        "    for row in array:\n",
        "        for num in row:\n",
        "            # Add each number to the total sum\n",
        "            total_sum += num\n",
        "            # Increment count for each number\n",
        "            count += 1\n",
        "\n",
        "    # Calculate the average\n",
        "    average = total_sum / count\n",
        "    return average\n",
        "\n",
        "# Calculate the sum of the 2D array\n",
        "sum_of_array = calculate_sum_2d(array_2d)\n",
        "\n",
        "# Calculate the minimum value of the 2D array\n",
        "min_of_array = calculate_minimum_2d(array_2d)\n",
        "\n",
        "# Calculate the maximum value of the 2D array\n",
        "max_of_array = calculate_maximum_2d(array_2d)\n",
        "\n",
        "# Calculate the average value of the 2D array\n",
        "average_of_array = calculate_average_2d(array_2d)\n",
        "\n",
        "# Print the results\n",
        "print(\"2D Array:\")\n",
        "for row in array_2d:\n",
        "    print(row)\n",
        "\n",
        "print(\"\\nSum of the array:\", sum_of_array)\n",
        "print(\"Minimum value in the array:\", min_of_array)\n",
        "print(\"Maximum value in the array:\", max_of_array)\n",
        "print(\"Average value of the array:\", average_of_array)\n"
      ],
      "metadata": {
        "colab": {
          "base_uri": "https://localhost:8080/"
        },
        "id": "Rt0FlVdeD3ck",
        "outputId": "fcef73e1-9039-4b52-ba47-e14f06f0fead"
      },
      "execution_count": null,
      "outputs": [
        {
          "output_type": "stream",
          "name": "stdout",
          "text": [
            "2D Array:\n",
            "[1, 2, 3, 4]\n",
            "[5, 6, 7, 8]\n",
            "[9, 10, 11, 12]\n",
            "\n",
            "Sum of the array: 78\n",
            "Minimum value in the array: 1\n",
            "Maximum value in the array: 12\n",
            "Average value of the array: 6.5\n"
          ]
        }
      ]
    },
    {
      "cell_type": "markdown",
      "source": [
        "## **9.0 2D-Arrays - Calculating Total, Average, Max and Min of Rows** ##"
      ],
      "metadata": {
        "id": "UBvdouHfF9n6"
      }
    },
    {
      "cell_type": "code",
      "source": [
        "# Create and populate the 2D array\n",
        "array_2d = [\n",
        "    [1, 2, 3, 4],\n",
        "    [5, 6, 7, 8],\n",
        "    [9, 10, 11, 12]\n",
        "]\n",
        "\n",
        "# Function to calculate the sum of each row using nested for loops\n",
        "def calculate_row_sum(array):\n",
        "    row_sums = []\n",
        "    for row in array:\n",
        "        row_sum = 0\n",
        "        for num in row:\n",
        "            row_sum = row_sum + num\n",
        "        row_sums.append(row_sum)\n",
        "    return row_sums\n",
        "\n",
        "# Function to calculate the average of each row using nested for loops\n",
        "def calculate_row_average(array):\n",
        "    row_averages = []\n",
        "    for row in array:\n",
        "        row_sum = 0\n",
        "        for num in row:\n",
        "            row_sum = row_sum + num\n",
        "        row_average = row_sum / len(row)\n",
        "        row_averages.append(row_average)\n",
        "    return row_averages\n",
        "\n",
        "# Function to calculate the minimum value of each row using nested for loops\n",
        "def calculate_row_minimum(array):\n",
        "    row_minimums = []\n",
        "    for row in array:\n",
        "        row_minimum = min(row)\n",
        "        row_minimums.append(row_minimum)\n",
        "    return row_minimums\n",
        "\n",
        "# Function to calculate the maximum value of each row using nested for loops\n",
        "def calculate_row_maximum(array):\n",
        "    row_maximums = []\n",
        "    for row in array:\n",
        "        row_maximum = max(row)\n",
        "        row_maximums.append(row_maximum)\n",
        "    return row_maximums\n",
        "\n",
        "# Calculate the sum of each row\n",
        "row_sums = calculate_row_sum(array_2d)\n",
        "\n",
        "# Calculate the average of each row\n",
        "row_averages = calculate_row_average(array_2d)\n",
        "\n",
        "# Calculate the minimum value of each row\n",
        "row_minimums = calculate_row_minimum(array_2d)\n",
        "\n",
        "# Calculate the maximum value of each row\n",
        "row_maximums = calculate_row_maximum(array_2d)\n",
        "\n",
        "# Print the array, the sum of each row, the average of each row, the minimum value of each row, and the maximum value of each row\n",
        "print(\"2D Array:\")\n",
        "for row in array_2d:\n",
        "    print(row)\n",
        "\n",
        "print(\"\\nSum of each row:\")\n",
        "row_index = 1\n",
        "for row_sum in row_sums:\n",
        "    print(\"Row\", row_index, \":\", row_sum)\n",
        "    row_index = row_index + 1\n",
        "\n",
        "print(\"\\nAverage of each row:\")\n",
        "row_index = 1\n",
        "for row_avg in row_averages:\n",
        "    print(\"Row\", row_index, \":\", row_avg)\n",
        "    row_index = row_index + 1\n",
        "\n",
        "print(\"\\nMinimum value of each row:\")\n",
        "row_index = 1\n",
        "for row_min in row_minimums:\n",
        "    print(\"Row\", row_index, \":\", row_min)\n",
        "    row_index = row_index + 1\n",
        "\n",
        "print(\"\\nMaximum value of each row:\")\n",
        "row_index = 1\n",
        "for row_max in row_maximums:\n",
        "    print(\"Row\", row_index, \":\", row_max)\n",
        "    row_index = row_index + 1\n"
      ],
      "metadata": {
        "colab": {
          "base_uri": "https://localhost:8080/"
        },
        "id": "ANAuRBpJGHjs",
        "outputId": "1a7b8803-47a0-47ef-dd81-f9e3b0760683"
      },
      "execution_count": null,
      "outputs": [
        {
          "output_type": "stream",
          "name": "stdout",
          "text": [
            "2D Array:\n",
            "[1, 2, 3, 4]\n",
            "[5, 6, 7, 8]\n",
            "[9, 10, 11, 12]\n",
            "\n",
            "Sum of each row:\n",
            "Row 1 : 10\n",
            "Row 2 : 26\n",
            "Row 3 : 42\n",
            "\n",
            "Average of each row:\n",
            "Row 1 : 2.5\n",
            "Row 2 : 6.5\n",
            "Row 3 : 10.5\n",
            "\n",
            "Minimum value of each row:\n",
            "Row 1 : 1\n",
            "Row 2 : 5\n",
            "Row 3 : 9\n",
            "\n",
            "Maximum value of each row:\n",
            "Row 1 : 4\n",
            "Row 2 : 8\n",
            "Row 3 : 12\n"
          ]
        }
      ]
    },
    {
      "cell_type": "markdown",
      "source": [
        "## **10.0 2D Arrays - Finding Total, Average, Max, Min of Columns**##"
      ],
      "metadata": {
        "id": "OH9j5rchGMRR"
      }
    },
    {
      "cell_type": "code",
      "source": [
        "array_2d = [\n",
        "    [1, 2, 3, 4],\n",
        "    [5, 6, 7, 8],\n",
        "    [9, 10, 11, 12]\n",
        "]\n",
        "\n",
        "# Calculate the sum and average of each column in the 2D array and print the results.\n",
        "def Sum_Average():\n",
        "    for column in range(4):\n",
        "        sum = 0\n",
        "        count = 0\n",
        "        for row in range(3):\n",
        "            X = array_2d[row][column]\n",
        "            sum = sum + X\n",
        "            count = count + 1\n",
        "        Average = sum / count\n",
        "        print(\"Column \", column, \"Sum \", sum, \"Count \", count, \" Average \", round(Average, 2))\n",
        "    print()\n",
        "\n",
        "# Calculate the minimum value of each column in the 2D array and print the results.\n",
        "def Min_Column_Values():\n",
        "    for column in range(len(array_2d[0])):  # Iterate over columns\n",
        "        min_val = array_2d[0][column]  # Initialize min_val with the first element of the column\n",
        "        for row in range(1, len(array_2d)):  # Iterate over rows starting from the second row\n",
        "            if array_2d[row][column] < min_val:\n",
        "                min_val = array_2d[row][column]\n",
        "        print(\"Column \", column, \"Minimum Value \", min_val)\n",
        "    print()\n",
        "\n",
        "# Calculate the maximum value of each column in the 2D array and print the results.\n",
        "def Max_Column_Values():\n",
        "    for column in range(len(array_2d[0])):  # Iterate over columns\n",
        "        max_val = array_2d[0][column]  # Initialize max_val with the first element of the column\n",
        "        for row in range(1, len(array_2d)):  # Iterate over rows starting from the second row\n",
        "            if array_2d[row][column] > max_val:\n",
        "                max_val = array_2d[row][column]\n",
        "        print(\"Column \", column, \"Maximum Value \", max_val)\n",
        "    print()\n",
        "\n",
        "Sum_Average()\n",
        "Min_Column_Values()\n",
        "Max_Column_Values()\n"
      ],
      "metadata": {
        "colab": {
          "base_uri": "https://localhost:8080/"
        },
        "id": "rKdxIh9qRjEX",
        "outputId": "4da0158c-dd79-4e7f-eea1-0655921c0221"
      },
      "execution_count": null,
      "outputs": [
        {
          "output_type": "stream",
          "name": "stdout",
          "text": [
            "Column  0 Sum  15 Count  3  Average  5.0\n",
            "Column  1 Sum  18 Count  3  Average  6.0\n",
            "Column  2 Sum  21 Count  3  Average  7.0\n",
            "Column  3 Sum  24 Count  3  Average  8.0\n",
            "\n",
            "Column  0 Minimum Value  1\n",
            "Column  1 Minimum Value  2\n",
            "Column  2 Minimum Value  3\n",
            "Column  3 Minimum Value  4\n",
            "\n",
            "Column  0 Maximum Value  9\n",
            "Column  1 Maximum Value  10\n",
            "Column  2 Maximum Value  11\n",
            "Column  3 Maximum Value  12\n",
            "\n"
          ]
        }
      ]
    }
  ]
}